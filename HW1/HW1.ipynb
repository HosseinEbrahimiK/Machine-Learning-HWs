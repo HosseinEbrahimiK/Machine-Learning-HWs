{
 "cells": [
  {
   "cell_type": "markdown",
   "metadata": {},
   "source": [
    "# <font color='black'>EE25737: Introduction to Machine Learning</font>\n",
    "## Linear Regression"
   ]
  },
  {
   "cell_type": "markdown",
   "metadata": {},
   "source": [
    "### [your name]\n",
    "### [your ID]"
   ]
  },
  {
   "cell_type": "markdown",
   "metadata": {},
   "source": [
    "In this assignment you will implement linear regression algorithm only using linalg and without using scikit-learn.<br>\n",
    "Questions of this notebook are just hinted for your procedure. You should answer the questions of 'HW1.pdf' in your one-page report."
   ]
  },
  {
   "cell_type": "markdown",
   "metadata": {},
   "source": [
    "## Problem C1.Linear regression\n"
   ]
  },
  {
   "cell_type": "markdown",
   "metadata": {},
   "source": [
    "In this question, you will fit a linear regression on a dataset containing\n",
    "several parameters from student applications for graduate studies. These\n",
    "parameters, that are thought to influence the success of the application,\n",
    "are:<br>\n",
    "1.GRE Scores ( out of 340 )<br>\n",
    "2.TOEFL Scores ( out of 120 )<br>\n",
    "3.University Rating ( out of 5 )<br>\n",
    "4.Statement of Purpose Strength ( out of 5 )<br>\n",
    "5.Letter of Recommendation Strength ( out of 5 )<br>\n",
    "6.Undergraduate GPA ( out of 10 )<br>\n",
    "7.Research Experience ( either 0 or 1 )<br>\n",
    "Finally, the dataset includes the following parameter,<br>\n",
    "<font color='red'>8.Chance of getting admitted ( ranging from 0 to 1 )</font><br>\n",
    "\n",
    "\n",
    "\n",
    "In this problem, you first choose one of the parameters 1 to 7, as the\n",
    "important feature based on which a good prediction can be made about the\n",
    "chance of success. Then you will apply linear regression on the whole features to come up with the hypothesis for predicting the chance of\n",
    "admission."
   ]
  },
  {
   "cell_type": "markdown",
   "metadata": {},
   "source": [
    "#### A.Load data\n",
    "first load 'Q1_data.csv' then split last 20 percentage of data for your validation set"
   ]
  },
  {
   "cell_type": "markdown",
   "metadata": {},
   "source": [
    "import data with pandas library.<br>\n",
    "First 7 columns (exclude Serial No) are your training features and name them 'X' and 8th column is label and name it Y."
   ]
  },
  {
   "cell_type": "code",
   "execution_count": 6,
   "metadata": {},
   "outputs": [],
   "source": [
    "import pandas as pd\n",
    "\n",
    "## your code to load data\n",
    "\n",
    "# X = ....\n",
    "# Y = ....\n",
    "\n",
    "\n",
    "## your code to split data\n",
    "\n",
    "\n",
    "\n"
   ]
  },
  {
   "cell_type": "markdown",
   "metadata": {},
   "source": [
    "#### B.Fit linear regression model"
   ]
  },
  {
   "cell_type": "markdown",
   "metadata": {},
   "source": [
    "Fit linear regression model.<br>\n",
    "Define mean square error(MSE) as your loss.<br>\n",
    "Calculate and compare the empirical and true loss.\n",
    "\n",
    "<font color='red'>Note that you are not allowed to use ready-made functions and libraries of linear regression and You should implement the algorithm on your own</font>"
   ]
  },
  {
   "cell_type": "code",
   "execution_count": null,
   "metadata": {},
   "outputs": [],
   "source": [
    "\n",
    "## your code to fit linear regression\n",
    "\n",
    "\n",
    "\n",
    "\n",
    "\n",
    "\n",
    "\n",
    "\n",
    "\n",
    "\n",
    "\n",
    "\n",
    "\n",
    "\n",
    "\n"
   ]
  },
  {
   "cell_type": "markdown",
   "metadata": {},
   "source": [
    "#### C.Find best feature\n"
   ]
  },
  {
   "cell_type": "markdown",
   "metadata": {},
   "source": [
    "Plot 'Chance of getting admitted' based on each feature separately."
   ]
  },
  {
   "cell_type": "code",
   "execution_count": 2,
   "metadata": {},
   "outputs": [],
   "source": [
    "## your code to plot features\n",
    "\n",
    "\n",
    "\n",
    "\n",
    "\n",
    "\n",
    "\n",
    "\n",
    "\n",
    "\n"
   ]
  },
  {
   "cell_type": "markdown",
   "metadata": {},
   "source": [
    "Given that we want to use just one feature for regression, which parameter would you use as this feature?\n",
    "Justify your answer using the seven plots that you obtained earlier. (No mathematical proof is needed)."
   ]
  },
  {
   "cell_type": "markdown",
   "metadata": {},
   "source": [
    "#### D.Fit linear regression model on selected feature\n"
   ]
  },
  {
   "cell_type": "code",
   "execution_count": 3,
   "metadata": {},
   "outputs": [],
   "source": [
    "\n",
    "## your code to fit linear regression on the selected feature\n",
    "\n",
    "\n",
    "\n",
    "\n",
    "\n",
    "\n",
    "\n",
    "\n",
    "\n",
    "\n",
    "\n"
   ]
  },
  {
   "cell_type": "markdown",
   "metadata": {},
   "source": [
    "Fit linear regression model on selected feature.<br>\n",
    "Define mean square error(MSE) as your loss.<br>\n",
    "Calculate the empirical and true loss of the selected feature and compare it with the empirical and true loss of part B."
   ]
  },
  {
   "cell_type": "markdown",
   "metadata": {},
   "source": [
    "## Problem C2.Linear regression for polynomial regression tasks\n"
   ]
  },
  {
   "cell_type": "markdown",
   "metadata": {},
   "source": [
    "In this question, our data set includes only one feature. We would like to\n",
    "apply polynomial regression to this data set. For each of the polynomial\n",
    "degrees from n=1 to n=15, train a polynomial regression on the training\n",
    "data set. <br>\n",
    "Define mean square error(MSE) as your loss.<br>\n",
    "Calculate final empirical and true loss for each degree and plot it based on 'n'. <br>\n",
    "Explain the result and plot in your report.<br>\n",
    "Which degree is proper for our dataset? justify your answer.<br>\n",
    "\n",
    "<font color='red'>Note that you are not allowed to use ready-made functions and libraries of linear regression and You should implement the algorithm on your own</font><br>"
   ]
  },
  {
   "cell_type": "code",
   "execution_count": null,
   "metadata": {},
   "outputs": [],
   "source": [
    "## your code to load 'train_data.npy' , 'validation_data.npy' and 'test_data.npy'\n",
    "\n",
    "\n",
    "\n",
    "\n",
    "\n",
    "\n",
    "## your code to train regression for n=1 to n=15 degree\n",
    "\n",
    "\n",
    "\n",
    "\n",
    "\n",
    "\n",
    "\n",
    "\n",
    "\n",
    "\n",
    "\n",
    "\n",
    "\n",
    "\n",
    "\n",
    "\n",
    "\n",
    "## your code to plot loss\n",
    "\n",
    "\n",
    "\n",
    "\n",
    "\n",
    "\n",
    "\n",
    "##your code to calculate true risk for best degree\n",
    "\n",
    "\n",
    "\n"
   ]
  }
 ],
 "metadata": {
  "kernelspec": {
   "display_name": "Python 3",
   "language": "python",
   "name": "python3"
  },
  "language_info": {
   "codemirror_mode": {
    "name": "ipython",
    "version": 3
   },
   "file_extension": ".py",
   "mimetype": "text/x-python",
   "name": "python",
   "nbconvert_exporter": "python",
   "pygments_lexer": "ipython3",
   "version": "3.8.3"
  }
 },
 "nbformat": 4,
 "nbformat_minor": 2
}
